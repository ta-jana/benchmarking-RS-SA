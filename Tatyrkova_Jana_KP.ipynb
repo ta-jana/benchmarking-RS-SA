{
 "cells": [
  {
   "attachments": {},
   "cell_type": "markdown",
   "metadata": {},
   "source": [
    "## Knapsack problem"
   ]
  },
  {
   "cell_type": "code",
   "execution_count": 1,
   "metadata": {},
   "outputs": [],
   "source": [
    "import random\n",
    "from prettytable import PrettyTable\n",
    "import numpy as np\n",
    "import math \n",
    "import matplotlib.pyplot as plt"
   ]
  },
  {
   "cell_type": "code",
   "execution_count": 2,
   "metadata": {},
   "outputs": [
    {
     "name": "stdout",
     "output_type": "stream",
     "text": [
      "+------+--------+--------+\n",
      "|  ID  | Prices | Weight |\n",
      "+------+--------+--------+\n",
      "|  0   |   48   |   35   |\n",
      "|  1   |   13   |   31   |\n",
      "|  2   |   47   |   20   |\n",
      "|  3   |   37   |   49   |\n",
      "|  4   |   37   |   23   |\n",
      "|  5   |   1    |   42   |\n",
      "|  6   |   47   |   48   |\n",
      "|  7   |   21   |   22   |\n",
      "|  8   |   47   |   16   |\n",
      "|  9   |   15   |   8    |\n",
      "|  10  |   36   |   40   |\n",
      "|  11  |   10   |   47   |\n",
      "|  12  |   18   |   20   |\n",
      "|  13  |   19   |   46   |\n",
      "|  14  |   22   |   35   |\n",
      "|  15  |   45   |   9    |\n",
      "|  16  |   48   |   7    |\n",
      "|  17  |   12   |   29   |\n",
      "|  18  |   34   |   11   |\n",
      "|  19  |   39   |   39   |\n",
      "| ---  | ------ | ------ |\n",
      "| Suma |  596   |  577   |\n",
      "+------+--------+--------+\n"
     ]
    }
   ],
   "source": [
    "\n",
    "n_items = 20\n",
    "area = 50\n",
    "\n",
    "prices = [random.randint(1, area) for _ in range(n_items)]\n",
    "weights = [random.randint(1, area) for _ in range(n_items)]\n",
    "\n",
    "tbl = PrettyTable()\n",
    "tbl.field_names = [\"ID\",\"Prices\", \"Weight\"]\n",
    "\n",
    "for i in range(n_items):\n",
    "    tbl.add_row([i, prices[i], weights[i]])\n",
    "\n",
    "tbl.add_row([\"---\",\"------\", \"------\"])\n",
    "tbl.add_row([\"Suma\", sum(prices), sum(weights)])\n",
    "print(tbl)\n",
    "\n"
   ]
  },
  {
   "attachments": {},
   "cell_type": "markdown",
   "metadata": {},
   "source": [
    "### Brute Force"
   ]
  },
  {
   "cell_type": "code",
   "execution_count": 3,
   "metadata": {},
   "outputs": [],
   "source": [
    "def knapsack_brute_force(prices, weights, max_weight):\n",
    "    n_products = len(prices)\n",
    "    best_value = 0\n",
    "    best_combination = []\n",
    "    weights_of_b_comb = []\n",
    "    history = []\n",
    "\n",
    "    for i in range(2 ** n_products):\n",
    "        combination = []\n",
    "        total_weight = 0\n",
    "        total_value = 0\n",
    "\n",
    "        for j in range(n_products):\n",
    "            if (i >> j) & 1:\n",
    "                combination.append(j)\n",
    "                total_weight += weights[j]\n",
    "                total_value += prices[j]\n",
    "                \n",
    "        \n",
    "        if total_weight <= max_weight and total_value > best_value:\n",
    "            best_value = total_value\n",
    "            best_combination = combination           \n",
    "            weights_of_b_comb = weights\n",
    "            history.append(best_value)\n",
    "    return history, best_value, best_combination, weights_of_b_comb\n",
    "\n"
   ]
  },
  {
   "attachments": {},
   "cell_type": "markdown",
   "metadata": {},
   "source": [
    "### Simulated annealing"
   ]
  },
  {
   "cell_type": "code",
   "execution_count": 4,
   "metadata": {},
   "outputs": [],
   "source": [
    "def generate_starting_vector(weights, max_weight):\n",
    "    starting_vector = []\n",
    "    total_weight = 0\n",
    "    n_items = len(weights)\n",
    "\n",
    "    for i in range(n_items*2):\n",
    "        index = random.randint(0, n_items - 1)  # Vyber náhodný index produktu\n",
    "        if index not in starting_vector:\n",
    "            new_weight = total_weight + weights[index]\n",
    "            if new_weight <= max_weight:\n",
    "                starting_vector.append(index)\n",
    "                total_weight = new_weight\n",
    "    return starting_vector\n",
    "\n",
    "def count_total_price(current_solution):\n",
    "    total_price = 0\n",
    "    for index in current_solution:\n",
    "        total_price += prices[index]\n",
    "    return total_price\n",
    "\n",
    "def count_total_weight(current_solution):\n",
    "    total_weight = 0\n",
    "    for index in current_solution:\n",
    "        total_weight += weights[index]\n",
    "    return total_weight\n",
    "\n",
    "def generate_neighbor(current_solution, prices, max_weight):\n",
    "    neighbour = []\n",
    "    n_items= len(prices)\n",
    "    total_weight = count_total_weight(current_solution) # 20\n",
    "\n",
    "    neighbour = current_solution.copy()\n",
    "    index = random.randint(0, n_items - 1)  # Vyber náhodný index produktu\n",
    "    if index not in neighbour:\n",
    "            new_weight = total_weight + weights[index] # 24\n",
    "            if new_weight <= max_weight:\n",
    "                neighbour.append(index)\n",
    "    elif index in neighbour: #pokud je index v reseni\n",
    "            neighbour.remove(index)\n",
    "\n",
    "    return neighbour\n",
    "\n",
    "\n",
    "def knapsack_simulated_annealing(n_iterations, max_weight, prices, weights, n_metropolis, max_temp, min_temp, cooling_decr):\n",
    "    starting_vector = generate_starting_vector(weights, max_weight)\n",
    "    current_solution = starting_vector #indexes of products\n",
    "    best_combination = []\n",
    "    total_price = count_total_price(current_solution)\n",
    "    history = []\n",
    "\n",
    "    current_fitness = total_price\n",
    "    best_fitness = current_fitness\n",
    "    history.append(current_fitness)\n",
    "    T = max_temp\n",
    "\n",
    "    for i in range(n_iterations):\n",
    "\n",
    "        for _ in range(n_metropolis):   #volani metropolise \n",
    "            neighbour = generate_neighbor(current_solution, prices, max_weight)\n",
    "            neighbour_fitness = count_total_price(neighbour) \n",
    "            delta_f = current_fitness - neighbour_fitness\n",
    "\n",
    "            if(delta_f < 0):\n",
    "                current_fitness = neighbour_fitness\n",
    "                current_solution = neighbour\n",
    "\n",
    "            if(current_fitness > best_fitness):\n",
    "                best_fitness = current_fitness\n",
    "                best_combination = current_solution\n",
    "                history.append(best_fitness) \n",
    "\n",
    "            elif(random.random() < math.exp(-delta_f/T)):            \n",
    "                current_fitness = neighbour_fitness\n",
    "                current_solution = neighbour\n",
    "                \n",
    "        T = max_temp*cooling_decr**i\n",
    "        if(T < min_temp):\n",
    "            T = min_temp\n",
    "    return history, best_combination, best_fitness\n",
    "\n"
   ]
  },
  {
   "attachments": {},
   "cell_type": "markdown",
   "metadata": {},
   "source": [
    "### Výsledky"
   ]
  },
  {
   "cell_type": "code",
   "execution_count": 7,
   "metadata": {},
   "outputs": [],
   "source": [
    "def comparison(n_iterations, max_weight, n_metropolis, cooling_decr ):\n",
    "    max_temp = 1000\n",
    "    min_temp = 0.1\n",
    "\n",
    "    BF_history = []\n",
    "    SA_history = []\n",
    "    all_results_sa = []\n",
    "    all_results_bf = []\n",
    "\n",
    "    for i in range(30):\n",
    "        KS_BF_history, best_fitness_bf, best_combination, weights_of_best_combination = knapsack_brute_force(prices, weights, max_weight)\n",
    "        BF_history.append(best_fitness_bf)\n",
    "        all_results_bf.append(KS_BF_history)\n",
    "        KS_SA_history, best_solution_sa, best_fitness_sa = knapsack_simulated_annealing(n_iterations, max_weight, prices, weights, n_metropolis, max_temp, min_temp, cooling_decr)\n",
    "        SA_history.append(best_fitness_sa)\n",
    "        all_results_sa.append(KS_SA_history)\n",
    "\n",
    "\n",
    "    BF_min = np.min(np.array(BF_history))\n",
    "    BF_max = np.max(np.array(BF_history))\n",
    "    BF_mean = np.mean(np.array(BF_history))\n",
    "    BF_median = np.median(np.array(BF_history))\n",
    "    BF_std_dev = np.std(np.array(BF_history))\n",
    "\n",
    "    SA_min = np.min(np.array(SA_history))\n",
    "    SA_max = np.max(np.array(SA_history))\n",
    "    SA_mean = np.mean(np.array(SA_history))\n",
    "    SA_median = np.median(np.array(SA_history))\n",
    "    SA_std_dev = np.std(np.array(SA_history))\n",
    "\n",
    "    tbl = PrettyTable()\n",
    "    tbl.field_names = [\"Algorithm\", \"MIN\", \"MAX\", \"MEAN\", \"MEDIAN\", \"STD_DEV\"]\n",
    "    tbl.add_row([\"BF\", BF_min, BF_max, BF_mean, BF_median, BF_std_dev])\n",
    "    tbl.add_row([\"SA\", SA_min, SA_max, SA_mean, SA_median, SA_std_dev])\n",
    "    print(tbl)\n",
    "\n",
    "    '''\n",
    "    # Vykreslení grafu pro každý běh SA hledání nejlepšího řešení\n",
    "    plt.figure(figsize=(5, 2))\n",
    "    plt.title(\"Simulated annealing history\")\n",
    "    for i in range(len(all_results_sa)):\n",
    "        plt.plot(all_results_sa[i])\n",
    "\n",
    "    plt.xlabel('Index')\n",
    "    plt.ylabel('Hodnota')\n",
    "    plt.show()\n",
    "    '''\n",
    "\n",
    "    plt.figure(figsize=(5, 2))\n",
    "    plt.plot(BF_history) #  plt.plot(iteration_data, label=f\"It {i+1}\") \n",
    "    plt.plot(SA_history) #  plt.plot(iteration_data, label=f\"It {i+1}\")\n",
    "    plt.xlabel(\"Iteration\")\n",
    "    plt.ylabel(\"Best Fitness\")\n",
    "    plt.title(\" SA and BF best results comparison\")\n",
    "    plt.grid(True)\n",
    "    plt.show()"
   ]
  },
  {
   "cell_type": "code",
   "execution_count": 11,
   "metadata": {},
   "outputs": [
    {
     "name": "stdout",
     "output_type": "stream",
     "text": [
      "+-----------+-----+-----+-------------------+--------+-------------------+\n",
      "| Algorithm | MIN | MAX |        MEAN       | MEDIAN |      STD_DEV      |\n",
      "+-----------+-----+-----+-------------------+--------+-------------------+\n",
      "|     BF    | 389 | 389 |       389.0       | 389.0  |        0.0        |\n",
      "|     SA    | 315 | 389 | 348.1333333333333 | 347.0  | 19.05734037640673 |\n",
      "+-----------+-----+-----+-------------------+--------+-------------------+\n"
     ]
    },
    {
     "data": {
      "image/png": "[encoded data removed]",
      "text/plain": [
       "<Figure size 500x200 with 1 Axes>"
      ]
     },
     "metadata": {},
     "output_type": "display_data"
    }
   ],
   "source": [
    "comparison(1000,200,30,0.6)\n"
   ]
  },
  {
   "attachments": {},
   "cell_type": "markdown",
   "metadata": {},
   "source": [
    "### Brute force for 29 items took 32 mins"
   ]
  },
  {
   "cell_type": "code",
   "execution_count": 16,
   "metadata": {},
   "outputs": [
    {
     "name": "stdout",
     "output_type": "stream",
     "text": [
      "+------+--------+--------+\n",
      "|  ID  | Prices | Weight |\n",
      "+------+--------+--------+\n",
      "|  0   |   38   |   15   |\n",
      "|  1   |   24   |   19   |\n",
      "|  2   |   12   |   28   |\n",
      "|  3   |   43   |   24   |\n",
      "|  4   |   17   |   25   |\n",
      "|  5   |   35   |   2    |\n",
      "|  6   |   42   |   50   |\n",
      "|  7   |   36   |   36   |\n",
      "|  8   |   43   |   2    |\n",
      "|  9   |   38   |   38   |\n",
      "|  10  |   10   |   21   |\n",
      "|  11  |   2    |   9    |\n",
      "|  12  |   20   |   43   |\n",
      "|  13  |   49   |   3    |\n",
      "|  14  |   14   |   19   |\n",
      "|  15  |   37   |   14   |\n",
      "|  16  |   48   |   49   |\n",
      "|  17  |   8    |   36   |\n",
      "|  18  |   41   |   3    |\n",
      "|  19  |   46   |   31   |\n",
      "|  20  |   33   |   32   |\n",
      "|  21  |   26   |   17   |\n",
      "|  22  |   36   |   10   |\n",
      "|  23  |   42   |   39   |\n",
      "|  24  |   16   |   41   |\n",
      "|  25  |   7    |   11   |\n",
      "|  26  |   49   |   8    |\n",
      "|  27  |   44   |   19   |\n",
      "|  28  |   44   |   13   |\n",
      "| ---  | ------ | ------ |\n",
      "| Suma |  900   |  657   |\n",
      "+------+--------+--------+\n"
     ]
    }
   ],
   "source": [
    "n_items = 29\n",
    "area = 50\n",
    "\n",
    "prices = [random.randint(1, area) for _ in range(n_items)]\n",
    "weights = [random.randint(1, area) for _ in range(n_items)]\n",
    "\n",
    "tbl = PrettyTable()\n",
    "tbl.field_names = [\"ID\",\"Prices\", \"Weight\"]\n",
    "\n",
    "for i in range(n_items):\n",
    "    tbl.add_row([i, prices[i], weights[i]])\n",
    "\n",
    "tbl.add_row([\"---\",\"------\", \"------\"])\n",
    "tbl.add_row([\"Suma\", sum(prices), sum(weights)])\n",
    "print(tbl)\n",
    "\n",
    "KS_BF_history, best_fitness_bf, best_combination, weights_of_best_combination = knapsack_brute_force(prices, weights, 200)"
   ]
  },
  {
   "cell_type": "code",
   "execution_count": 18,
   "metadata": {},
   "outputs": [
    {
     "name": "stdout",
     "output_type": "stream",
     "text": [
      "573 [0, 3, 5, 8, 13, 15, 18, 19, 21, 22, 23, 26, 27, 28]\n"
     ]
    }
   ],
   "source": [
    "print(best_fitness_bf, best_combination)"
   ]
  },
  {
   "attachments": {},
   "cell_type": "markdown",
   "metadata": {},
   "source": [
    "### For 30 items it did not reach solutions even after 11 hours"
   ]
  },
  {
   "cell_type": "code",
   "execution_count": null,
   "metadata": {},
   "outputs": [],
   "source": []
  }
 ],
 "metadata": {
  "kernelspec": {
   "display_name": "Python 3",
   "language": "python",
   "name": "python3"
  },
  "language_info": {
   "codemirror_mode": {
    "name": "ipython",
    "version": 3
   },
   "file_extension": ".py",
   "mimetype": "text/x-python",
   "name": "python",
   "nbconvert_exporter": "python",
   "pygments_lexer": "ipython3",
   "version": "3.11.2"
  },
  "orig_nbformat": 4
 },
 "nbformat": 4,
 "nbformat_minor": 2
}
