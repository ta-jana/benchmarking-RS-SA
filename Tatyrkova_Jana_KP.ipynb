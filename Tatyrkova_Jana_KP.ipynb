{
 "cells": [
  {
   "attachments": {},
   "cell_type": "markdown",
   "metadata": {},
   "source": [
    "## Knapsack problem"
   ]
  },
  {
   "cell_type": "code",
   "execution_count": 4,
   "metadata": {},
   "outputs": [],
   "source": [
    "import random\n",
    "from prettytable import PrettyTable"
   ]
  },
  {
   "attachments": {},
   "cell_type": "markdown",
   "metadata": {},
   "source": [
    "### Brute Force"
   ]
  },
  {
   "cell_type": "code",
   "execution_count": 33,
   "metadata": {},
   "outputs": [
    {
     "name": "stdout",
     "output_type": "stream",
     "text": [
      "+------+--------+--------+\n",
      "|  ID  | Prices | Weight |\n",
      "+------+--------+--------+\n",
      "|  0   |   27   |   39   |\n",
      "|  1   |   40   |   10   |\n",
      "|  2   |   1    |   23   |\n",
      "|  3   |   47   |   9    |\n",
      "|  4   |   28   |   21   |\n",
      "|  5   |   24   |   46   |\n",
      "|  6   |   21   |   44   |\n",
      "|  7   |   40   |   14   |\n",
      "|  8   |   27   |   32   |\n",
      "|  9   |   12   |   31   |\n",
      "|  10  |   28   |   22   |\n",
      "|  11  |   41   |   32   |\n",
      "|  12  |   34   |   7    |\n",
      "|  13  |   50   |   45   |\n",
      "|  14  |   17   |   8    |\n",
      "|  15  |   29   |   6    |\n",
      "|  16  |   39   |   17   |\n",
      "|  17  |   44   |   7    |\n",
      "|  18  |   18   |   15   |\n",
      "|  19  |   14   |   4    |\n",
      "| ---  | ------ | ------ |\n",
      "| Suma |  581   |  432   |\n",
      "+------+--------+--------+\n"
     ]
    }
   ],
   "source": [
    "\n",
    "n_items = 20\n",
    "\n",
    "prices = [random.randint(1, 50) for _ in range(n_items)]\n",
    "weight = [random.randint(1, 50) for _ in range(n_items)]\n",
    "\n",
    "tbl = PrettyTable()\n",
    "tbl.field_names = [\"ID\",\"Prices\", \"Weight\"]\n",
    "\n",
    "for i in range(n_items):\n",
    "    tbl.add_row([i, prices[i], weight[i]])\n",
    "\n",
    "tbl.add_row([\"---\",\"------\", \"------\"])\n",
    "tbl.add_row([\"Suma\", sum(prices), sum(weight)])\n",
    "print(tbl)\n",
    "\n"
   ]
  },
  {
   "cell_type": "code",
   "execution_count": 36,
   "metadata": {},
   "outputs": [
    {
     "name": "stdout",
     "output_type": "stream",
     "text": [
      "Maximální hodnota: 441\n",
      "Nejlepší kombinace produktů: [1, 3, 4, 7, 11, 12, 13, 14, 15, 16, 17, 18, 19]\n",
      "Váhy nejlepších produktů: [39, 10, 23, 9, 21, 46, 44, 14, 32, 31, 22, 32, 7, 45, 8, 6, 17, 7, 15, 4]\n"
     ]
    }
   ],
   "source": [
    "def knapsack_brute_force(prices, weights, max_weight):\n",
    "    n_products = len(prices)\n",
    "    best_value = 0\n",
    "    best_combination = []\n",
    "    weights_of_b_comb = []\n",
    "\n",
    "    for i in range(2 ** n_products):\n",
    "        combination = []\n",
    "        total_weight = 0\n",
    "        total_value = 0\n",
    "\n",
    "        for j in range(n_products):\n",
    "\n",
    "            if (i >> j) & 1:\n",
    "                combination.append(j)\n",
    "                total_weight += weights[j]\n",
    "                total_value += prices[j]\n",
    "\n",
    "        if total_weight <= max_weight and total_value > best_value:\n",
    "            best_value = total_value\n",
    "            best_combination = combination\n",
    "            weights_of_b_comb = weights\n",
    "\n",
    "    return best_value, best_combination, weights_of_b_comb\n",
    "\n",
    "best_value, best_combination, weights_of_best_combination = knapsack_brute_force(prices, weight, 200)\n",
    "print(\"Maximální hodnota:\", best_value)\n",
    "print(\"Nejlepší kombinace produktů:\", best_combination)\n",
    "print(\"Váhy nejlepších produktů:\", weights_of_best_combination)\n"
   ]
  },
  {
   "cell_type": "code",
   "execution_count": null,
   "metadata": {},
   "outputs": [],
   "source": []
  }
 ],
 "metadata": {
  "kernelspec": {
   "display_name": "Python 3",
   "language": "python",
   "name": "python3"
  },
  "language_info": {
   "codemirror_mode": {
    "name": "ipython",
    "version": 3
   },
   "file_extension": ".py",
   "mimetype": "text/x-python",
   "name": "python",
   "nbconvert_exporter": "python",
   "pygments_lexer": "ipython3",
   "version": "3.11.2"
  },
  "orig_nbformat": 4
 },
 "nbformat": 4,
 "nbformat_minor": 2
}
