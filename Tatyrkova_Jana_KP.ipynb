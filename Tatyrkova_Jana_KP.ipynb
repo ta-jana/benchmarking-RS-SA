{
 "cells": [
  {
   "attachments": {},
   "cell_type": "markdown",
   "metadata": {},
   "source": [
    "## Knapsack problem"
   ]
  },
  {
   "cell_type": "code",
   "execution_count": 5,
   "metadata": {},
   "outputs": [],
   "source": [
    "import random\n",
    "from prettytable import PrettyTable\n",
    "import numpy as np\n",
    "import math "
   ]
  },
  {
   "attachments": {},
   "cell_type": "markdown",
   "metadata": {},
   "source": [
    "### Brute Force"
   ]
  },
  {
   "cell_type": "code",
   "execution_count": 8,
   "metadata": {},
   "outputs": [
    {
     "name": "stdout",
     "output_type": "stream",
     "text": [
      "+------+--------+--------+\n",
      "|  ID  | Prices | Weight |\n",
      "+------+--------+--------+\n",
      "|  0   |   10   |   29   |\n",
      "|  1   |   7    |   42   |\n",
      "|  2   |   28   |   47   |\n",
      "|  3   |   29   |   35   |\n",
      "|  4   |   44   |   31   |\n",
      "| ---  | ------ | ------ |\n",
      "| Suma |  118   |  184   |\n",
      "+------+--------+--------+\n"
     ]
    }
   ],
   "source": [
    "\n",
    "n_items = 5\n",
    "area = 50\n",
    "\n",
    "prices = [random.randint(1, area) for _ in range(n_items)]\n",
    "weights = [random.randint(1, area) for _ in range(n_items)]\n",
    "\n",
    "tbl = PrettyTable()\n",
    "tbl.field_names = [\"ID\",\"Prices\", \"Weight\"]\n",
    "\n",
    "for i in range(n_items):\n",
    "    tbl.add_row([i, prices[i], weights[i]])\n",
    "\n",
    "tbl.add_row([\"---\",\"------\", \"------\"])\n",
    "tbl.add_row([\"Suma\", sum(prices), sum(weights)])\n",
    "print(tbl)\n",
    "\n"
   ]
  },
  {
   "cell_type": "code",
   "execution_count": 10,
   "metadata": {},
   "outputs": [
    {
     "name": "stdout",
     "output_type": "stream",
     "text": [
      "Maximální hodnota: 118\n",
      "Nejlepší kombinace produktů: [0, 1, 2, 3, 4]\n",
      "Váhy nejlepších produktů: [17, 11, 4, 19, 32]\n"
     ]
    }
   ],
   "source": [
    "def knapsack_brute_force(prices, weights, max_weight):\n",
    "    n_products = len(prices)\n",
    "    best_value = 0\n",
    "    best_combination = []\n",
    "    weights_of_b_comb = []\n",
    "\n",
    "    for i in range(2 ** n_products):\n",
    "        combination = []\n",
    "        total_weight = 0\n",
    "        total_value = 0\n",
    "\n",
    "        for j in range(n_products):\n",
    "\n",
    "            if (i >> j) & 1:\n",
    "                combination.append(j)\n",
    "                total_weight += weights[j]\n",
    "                total_value += prices[j]\n",
    "\n",
    "        if total_weight <= max_weight and total_value > best_value:\n",
    "            best_value = total_value\n",
    "            best_combination = combination\n",
    "            \n",
    "            weights_of_b_comb = weights\n",
    "\n",
    "    return best_value, best_combination, weights_of_b_comb\n",
    "\n",
    "best_value, best_combination, weights_of_best_combination = knapsack_brute_force(prices, weight, 200)\n",
    "print(\"Maximální hodnota:\", best_value)\n",
    "print(\"Nejlepší kombinace produktů:\", best_combination)\n",
    "print(\"Váhy nejlepších produktů:\", weights_of_best_combination)\n"
   ]
  },
  {
   "attachments": {},
   "cell_type": "markdown",
   "metadata": {},
   "source": [
    "### Simulated annealing"
   ]
  },
  {
   "cell_type": "code",
   "execution_count": 14,
   "metadata": {},
   "outputs": [],
   "source": [
    "def generate_starting_vector(weights, max_weight):\n",
    "    starting_vector = []\n",
    "    total_weight = 0\n",
    "\n",
    "    for i in range(len(weights)*2):\n",
    "        index = random.randint(0, n_items - 1)  # Vyber náhodný index produktu\n",
    "        if index not in starting_vector:\n",
    "            new_weight = total_weight + weights[index]\n",
    "            if new_weight <= max_weight:\n",
    "                starting_vector.append(index)\n",
    "                total_weight = new_weight\n",
    "    return starting_vector\n",
    "\n",
    "def count_total_price(current_solution):\n",
    "    total_price = 0\n",
    "    for index in current_solution:\n",
    "        total_price += prices[index]\n",
    "    return total_price\n",
    "\n",
    "def count_total_weight(current_solution):\n",
    "    total_weight = 0\n",
    "    for index in current_solution:\n",
    "        total_weight += weights[index]\n",
    "    return total_weight\n",
    "\n",
    "def generate_neighbors(current_solution, n_neighbors, area):\n",
    "    neighbors = []\n",
    "    min_value = -area\n",
    "    max_value = area\n",
    "    step_10_percent = 0.1 * (max_value - min_value)\n",
    "    sigma = step_10_percent/2\n",
    "    for i in range(n_neighbors):\n",
    "        neighbor = current_solution + np.random.normal(0, sigma, len(current_solution))\n",
    "        while not all((neighbor >= -(area)) & (neighbor <= area)):\n",
    "            neighbor = np.clip(neighbor, min_value, max_value)\n",
    "        neighbors.append(neighbor)\n",
    "    return neighbors\n",
    "\n",
    "\n",
    "def knapsack_simulated_annealing(max_weight, prices, weights, n_neighbours, area, max_temp, min_temp, cooling_decr):\n",
    "    n_products = len(prices)\n",
    "    starting_vector = generate_starting_vector(weights, max_weight)\n",
    "    current_solution = starting_vector #indexes of products\n",
    "\n",
    "    total_price = count_total_price(current_solution)\n",
    "    total_weight = count_total_weight(current_solution)\n",
    "\n",
    "    current_fitness = total_price\n",
    "    history = [current_fitness]\n",
    "    T = max_temp\n",
    "\n",
    "    while T > min_temp:\n",
    "        neighbours = generate_neighbors(current_solution, n_neighbours, area)\n",
    "\n",
    "        for neighbour_solution in neighbours:\n",
    "            neighbour_fitness = count_total_price(neighbour_solution) \n",
    "            delta_f = current_fitness - neighbour_fitness\n",
    "\n",
    "            if(delta_f < 0):\n",
    "                current_fitness = neighbour_fitness\n",
    "                current_solution = neighbour_solution\n",
    "\n",
    "            elif(neighbour_fitness > current_fitness):\n",
    "                current_fitness = neighbour_fitness\n",
    "                current_solution = neighbour_solution\n",
    "\n",
    "            elif(random.random() < math.exp(-delta_f/T)): #volani metropolise\n",
    "                current_fitness = neighbour_fitness\n",
    "                current_solution = neighbour_solution\n",
    "                \n",
    "            history.append(current_fitness) # pro 10 000 hodnot v historii\n",
    "        #history.append(current_fitness)\n",
    "        T = max_temp*cooling_decr**i\n",
    "        if(T < min_temp):\n",
    "            T = min_temp\n",
    "    return history"
   ]
  },
  {
   "cell_type": "code",
   "execution_count": 2,
   "metadata": {},
   "outputs": [],
   "source": [
    "array = [21, 12, 43, 39, 21]"
   ]
  },
  {
   "cell_type": "code",
   "execution_count": 3,
   "metadata": {},
   "outputs": [
    {
     "data": {
      "text/plain": [
       "136"
      ]
     },
     "execution_count": 3,
     "metadata": {},
     "output_type": "execute_result"
    }
   ],
   "source": [
    "cost_function(array)"
   ]
  },
  {
   "cell_type": "code",
   "execution_count": 15,
   "metadata": {},
   "outputs": [
    {
     "data": {
      "text/plain": [
       "[4, 1]"
      ]
     },
     "execution_count": 15,
     "metadata": {},
     "output_type": "execute_result"
    }
   ],
   "source": [
    "generate_starting_vector(array,40)"
   ]
  },
  {
   "cell_type": "code",
   "execution_count": null,
   "metadata": {},
   "outputs": [],
   "source": []
  }
 ],
 "metadata": {
  "kernelspec": {
   "display_name": "Python 3",
   "language": "python",
   "name": "python3"
  },
  "language_info": {
   "codemirror_mode": {
    "name": "ipython",
    "version": 3
   },
   "file_extension": ".py",
   "mimetype": "text/x-python",
   "name": "python",
   "nbconvert_exporter": "python",
   "pygments_lexer": "ipython3",
   "version": "3.11.2"
  },
  "orig_nbformat": 4
 },
 "nbformat": 4,
 "nbformat_minor": 2
}
