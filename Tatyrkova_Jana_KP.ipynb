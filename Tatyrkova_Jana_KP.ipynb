{
 "cells": [
  {
   "attachments": {},
   "cell_type": "markdown",
   "metadata": {},
   "source": [
    "## Knapsack problem"
   ]
  },
  {
   "cell_type": "code",
   "execution_count": 4,
   "metadata": {},
   "outputs": [],
   "source": [
    "import random\n",
    "from prettytable import PrettyTable\n",
    "import numpy as np\n",
    "import math \n",
    "import matplotlib.pyplot as plt"
   ]
  },
  {
   "cell_type": "code",
   "execution_count": 5,
   "metadata": {},
   "outputs": [
    {
     "name": "stdout",
     "output_type": "stream",
     "text": [
      "+------+--------+--------+\n",
      "|  ID  | Prices | Weight |\n",
      "+------+--------+--------+\n",
      "|  0   |   23   |   3    |\n",
      "|  1   |   20   |   12   |\n",
      "|  2   |   9    |   33   |\n",
      "|  3   |   38   |   34   |\n",
      "|  4   |   43   |   36   |\n",
      "|  5   |   10   |   3    |\n",
      "|  6   |   8    |   7    |\n",
      "|  7   |   12   |   11   |\n",
      "|  8   |   12   |   15   |\n",
      "|  9   |   43   |   4    |\n",
      "|  10  |   35   |   36   |\n",
      "|  11  |   4    |   24   |\n",
      "|  12  |   40   |   20   |\n",
      "|  13  |   43   |   8    |\n",
      "|  14  |   21   |   20   |\n",
      "|  15  |   34   |   28   |\n",
      "|  16  |   22   |   38   |\n",
      "|  17  |   39   |   39   |\n",
      "|  18  |   3    |   42   |\n",
      "|  19  |   41   |   13   |\n",
      "| ---  | ------ | ------ |\n",
      "| Suma |  500   |  426   |\n",
      "+------+--------+--------+\n"
     ]
    }
   ],
   "source": [
    "\n",
    "n_items = 20\n",
    "area = 50\n",
    "\n",
    "prices = [random.randint(1, area) for _ in range(n_items)]\n",
    "weights = [random.randint(1, area) for _ in range(n_items)]\n",
    "\n",
    "tbl = PrettyTable()\n",
    "tbl.field_names = [\"ID\",\"Prices\", \"Weight\"]\n",
    "\n",
    "for i in range(n_items):\n",
    "    tbl.add_row([i, prices[i], weights[i]])\n",
    "\n",
    "tbl.add_row([\"---\",\"------\", \"------\"])\n",
    "tbl.add_row([\"Suma\", sum(prices), sum(weights)])\n",
    "print(tbl)\n",
    "\n"
   ]
  },
  {
   "attachments": {},
   "cell_type": "markdown",
   "metadata": {},
   "source": [
    "### Brute Force"
   ]
  },
  {
   "cell_type": "code",
   "execution_count": 6,
   "metadata": {},
   "outputs": [
    {
     "name": "stdout",
     "output_type": "stream",
     "text": [
      "Maximální hodnota: 376\n",
      "Nejlepší kombinace produktů: [0, 1, 3, 4, 5, 6, 7, 9, 12, 13, 14, 15, 19]\n",
      "Váhy nejlepších produktů: [3, 12, 33, 34, 36, 3, 7, 11, 15, 4, 36, 24, 20, 8, 20, 28, 38, 39, 42, 13]\n",
      "[23, 43, 52, 61, 81, 90, 95, 104, 124, 133, 134, 143, 151, 155, 163, 167, 175, 176, 177, 186, 194, 198, 206, 210, 218, 221, 229, 233, 241, 245, 253, 258, 261, 269, 273, 281, 284, 288, 291, 293, 301, 304, 312, 316, 319, 327, 328, 336, 337, 341, 345, 348, 356, 360, 365, 369, 370, 376]\n"
     ]
    }
   ],
   "source": [
    "def knapsack_brute_force(prices, weights, max_weight):\n",
    "    n_products = len(prices)\n",
    "    best_value = 0\n",
    "    best_combination = []\n",
    "    weights_of_b_comb = []\n",
    "    history = []\n",
    "\n",
    "    for i in range(2 ** n_products):\n",
    "        combination = []\n",
    "        total_weight = 0\n",
    "        total_value = 0\n",
    "\n",
    "        for j in range(n_products):\n",
    "            if (i >> j) & 1:\n",
    "                combination.append(j)\n",
    "                total_weight += weights[j]\n",
    "                total_value += prices[j]\n",
    "                \n",
    "        \n",
    "        if total_weight <= max_weight and total_value > best_value:\n",
    "            best_value = total_value\n",
    "            best_combination = combination           \n",
    "            weights_of_b_comb = weights\n",
    "            history.append(best_value)\n",
    "    return history, best_value, best_combination, weights_of_b_comb\n",
    "\n",
    "history_bf, best_value, best_combination, weights_of_best_combination = knapsack_brute_force(prices, weights, 200)\n",
    "print(\"Maximální hodnota:\", best_value)\n",
    "print(\"Nejlepší kombinace produktů:\", best_combination)\n",
    "print(\"Váhy nejlepších produktů:\", weights_of_best_combination)\n",
    "print(history_bf)\n"
   ]
  },
  {
   "attachments": {},
   "cell_type": "markdown",
   "metadata": {},
   "source": [
    "### Simulated annealing"
   ]
  },
  {
   "cell_type": "code",
   "execution_count": 7,
   "metadata": {},
   "outputs": [],
   "source": [
    "def generate_starting_vector(weights, max_weight):\n",
    "    starting_vector = []\n",
    "    total_weight = 0\n",
    "    n_items = len(weights)\n",
    "\n",
    "    for i in range(n_items*2):\n",
    "        index = random.randint(0, n_items - 1)  # Vyber náhodný index produktu\n",
    "        if index not in starting_vector:\n",
    "            new_weight = total_weight + weights[index]\n",
    "            if new_weight <= max_weight:\n",
    "                starting_vector.append(index)\n",
    "                total_weight = new_weight\n",
    "    return starting_vector\n",
    "\n",
    "def count_total_price(current_solution):\n",
    "    total_price = 0\n",
    "    for index in current_solution:\n",
    "        total_price += prices[index]\n",
    "    return total_price\n",
    "\n",
    "def count_total_weight(current_solution):\n",
    "    total_weight = 0\n",
    "    for index in current_solution:\n",
    "        total_weight += weights[index]\n",
    "    return total_weight\n",
    "\n",
    "def generate_neighbors(current_solution, n_neighbours, prices, max_weight):\n",
    "    neighbours = []\n",
    "    neighbour = []\n",
    "    n_items= len(prices)\n",
    "    total_weight = count_total_weight(current_solution) # 20\n",
    "\n",
    "    while len(neighbours) < n_neighbours:\n",
    "        neighbour = current_solution.copy()\n",
    "        index = random.randint(0, n_items - 1)  # Vyber náhodný index produktu\n",
    "        if index not in neighbour:\n",
    "                new_weight = total_weight + weights[index] # 24\n",
    "                if new_weight <= max_weight:\n",
    "                    neighbour.append(index)\n",
    "                    neighbours.append(neighbour)\n",
    "        elif index in neighbour: #pokud je index v reseni\n",
    "                neighbour.remove(index)\n",
    "                neighbours.append(neighbour)\n",
    "    return neighbours\n",
    "\n",
    "\n",
    "def knapsack_simulated_annealing(n_iterations, max_weight, prices, weights, n_neighbours, max_temp, min_temp, cooling_decr):\n",
    "    starting_vector = generate_starting_vector(weights, max_weight)\n",
    "    current_solution = starting_vector #indexes of products\n",
    "    best_combination = []\n",
    "    total_price = count_total_price(current_solution)\n",
    "    history = []\n",
    "\n",
    "    current_fitness = total_price\n",
    "    best_fitness = current_fitness\n",
    "    history.append(current_fitness)\n",
    "    T = max_temp\n",
    "\n",
    "    for i in range(n_iterations):\n",
    "        neighbours = generate_neighbors(current_solution, n_neighbours, prices, max_weight)\n",
    "\n",
    "        for neighbour_solution in neighbours:\n",
    "            neighbour_fitness = count_total_price(neighbour_solution) \n",
    "            delta_f = current_fitness - neighbour_fitness\n",
    "\n",
    "            if(delta_f < 0):\n",
    "                current_fitness = neighbour_fitness\n",
    "                current_solution = neighbour_solution\n",
    "\n",
    "            if(current_fitness > best_fitness):\n",
    "                best_fitness = current_fitness\n",
    "                best_combination = current_solution\n",
    "                history.append(best_fitness) \n",
    "\n",
    "            elif(random.random() < math.exp(-delta_f/T)): #volani metropolise            \n",
    "                current_fitness = neighbour_fitness\n",
    "                current_solution = neighbour_solution\n",
    "                \n",
    "        T = max_temp*cooling_decr**i\n",
    "        if(T < min_temp):\n",
    "            T = min_temp\n",
    "    return history, best_combination, best_fitness\n",
    "\n"
   ]
  },
  {
   "attachments": {},
   "cell_type": "markdown",
   "metadata": {},
   "source": [
    "### Výsledky"
   ]
  },
  {
   "cell_type": "code",
   "execution_count": 8,
   "metadata": {},
   "outputs": [],
   "source": [
    "def comparison(n_iterations, max_weight, n_neighbours, cooling_decr ):\n",
    "    max_temp = 1000\n",
    "    min_temp = 0.1\n",
    "\n",
    "    BF_history = []\n",
    "    SA_history = []\n",
    "    all_results_sa = []\n",
    "    all_results_bf = []\n",
    "\n",
    "    for i in range(30):\n",
    "        KS_BF_history, best_fitness_bf, best_combination, weights_of_best_combination = knapsack_brute_force(prices, weights, max_weight)\n",
    "        BF_history.append(best_fitness_bf)\n",
    "        all_results_bf.append(KS_BF_history)\n",
    "        KS_SA_history, best_solution_sa, best_fitness_sa = knapsack_simulated_annealing(n_iterations, max_weight, prices, weights, n_neighbours, max_temp, min_temp, cooling_decr)\n",
    "        SA_history.append(best_fitness_sa)\n",
    "        all_results_sa.append(KS_SA_history)\n",
    "\n",
    "\n",
    "    BF_min = np.min(np.array(BF_history))\n",
    "    BF_max = np.max(np.array(BF_history))\n",
    "    BF_mean = np.mean(np.array(BF_history))\n",
    "    BF_median = np.median(np.array(BF_history))\n",
    "    BF_std_dev = np.std(np.array(BF_history))\n",
    "\n",
    "    SA_min = np.min(np.array(SA_history))\n",
    "    SA_max = np.max(np.array(SA_history))\n",
    "    SA_mean = np.mean(np.array(SA_history))\n",
    "    SA_median = np.median(np.array(SA_history))\n",
    "    SA_std_dev = np.std(np.array(SA_history))\n",
    "\n",
    "    tbl = PrettyTable()\n",
    "    tbl.field_names = [\"Algorithm\", \"MIN\", \"MAX\", \"MEAN\", \"MEDIAN\", \"STD_DEV\"]\n",
    "    tbl.add_row([\"BF\", BF_min, BF_max, BF_mean, BF_median, BF_std_dev])\n",
    "    tbl.add_row([\"SA\", SA_min, SA_max, SA_mean, SA_median, SA_std_dev])\n",
    "    print(tbl)\n",
    "\n",
    "    '''\n",
    "    # Vykreslení grafu pro každý běh SA hledání nejlepšího řešení\n",
    "    plt.figure(figsize=(5, 2))\n",
    "    plt.title(\"Simulated annealing history\")\n",
    "    for i in range(len(all_results_sa)):\n",
    "        plt.plot(all_results_sa[i])\n",
    "\n",
    "    plt.xlabel('Index')\n",
    "    plt.ylabel('Hodnota')\n",
    "    plt.show()\n",
    "    '''\n",
    "\n",
    "    plt.figure(figsize=(5, 2))\n",
    "    plt.plot(BF_history) #  plt.plot(iteration_data, label=f\"It {i+1}\") \n",
    "    plt.plot(SA_history) #  plt.plot(iteration_data, label=f\"It {i+1}\")\n",
    "    plt.xlabel(\"Iteration\")\n",
    "    plt.ylabel(\"Best Fitness\")\n",
    "    plt.title(\" SA and BF best results comparison\")\n",
    "    plt.grid(True)\n",
    "    plt.show()"
   ]
  },
  {
   "cell_type": "code",
   "execution_count": 9,
   "metadata": {},
   "outputs": [
    {
     "name": "stdout",
     "output_type": "stream",
     "text": [
      "+-----------+-----+-----+-------+--------+--------------------+\n",
      "| Algorithm | MIN | MAX |  MEAN | MEDIAN |      STD_DEV       |\n",
      "+-----------+-----+-----+-------+--------+--------------------+\n",
      "|     BF    | 376 | 376 | 376.0 | 376.0  |        0.0         |\n",
      "|     SA    | 279 | 369 | 331.6 | 333.5  | 24.100622398602077 |\n",
      "+-----------+-----+-----+-------+--------+--------------------+\n"
     ]
    },
    {
     "data": {
      "image/png": "[encoded data removed]",
      "text/plain": [
       "<Figure size 500x200 with 1 Axes>"
      ]
     },
     "metadata": {},
     "output_type": "display_data"
    }
   ],
   "source": [
    "comparison(1000,200,10,0.6)\n"
   ]
  },
  {
   "cell_type": "code",
   "execution_count": null,
   "metadata": {},
   "outputs": [],
   "source": []
  }
 ],
 "metadata": {
  "kernelspec": {
   "display_name": "Python 3",
   "language": "python",
   "name": "python3"
  },
  "language_info": {
   "codemirror_mode": {
    "name": "ipython",
    "version": 3
   },
   "file_extension": ".py",
   "mimetype": "text/x-python",
   "name": "python",
   "nbconvert_exporter": "python",
   "pygments_lexer": "ipython3",
   "version": "3.11.2"
  },
  "orig_nbformat": 4
 },
 "nbformat": 4,
 "nbformat_minor": 2
}
