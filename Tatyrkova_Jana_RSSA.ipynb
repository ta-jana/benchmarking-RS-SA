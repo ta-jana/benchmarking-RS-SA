{
 "cells": [
  {
   "cell_type": "code",
   "execution_count": 5,
   "metadata": {},
   "outputs": [],
   "source": [
    "import numpy as np\n",
    "import math"
   ]
  },
  {
   "attachments": {},
   "cell_type": "markdown",
   "metadata": {},
   "source": [
    "## Testovací funkce"
   ]
  },
  {
   "cell_type": "code",
   "execution_count": 1,
   "metadata": {},
   "outputs": [],
   "source": [
    "# 1st DeJong function\n",
    "\n",
    "def dejong1(x):\n",
    "    return sum([i**2 for i in x])\n",
    "\n",
    "# 2st DeJong function\n",
    "# f2(x)=sum(100·(x(i+1)-x(i)^2)^2+(1-x(i))^2)\n",
    "#   i=1:n-1; -2.048<=x(i)<=2.048.\n",
    "def dejong2(x):\n",
    "    d = len(x)\n",
    "    suma = 0\n",
    "    i=0\n",
    "    for i in range(d-1):\n",
    "        xi = x[i]\n",
    "        xnext = x[i+1]\n",
    "        new = 100 * (xnext - xi**2)**2 + (xi-1)**2\n",
    "        suma += new\n",
    "    return suma \n",
    "\n",
    "# Schweffel function\n",
    "def schweffel(x):\n",
    "    d = len(x)\n",
    "    suma = 0\n",
    "    for i in range(d):\n",
    "        xi = x[i]\n",
    "        suma += xi * math.sin(math.sqrt(abs(xi)))\n",
    "    return (418.9829 * d - suma)\n",
    "    \n",
    "    "
   ]
  },
  {
   "attachments": {},
   "cell_type": "markdown",
   "metadata": {},
   "source": [
    "## Algoritmy"
   ]
  },
  {
   "cell_type": "code",
   "execution_count": null,
   "metadata": {},
   "outputs": [],
   "source": [
    "# Random Search\n",
    "\n",
    "# Simulované žíhání"
   ]
  }
 ],
 "metadata": {
  "kernelspec": {
   "display_name": "Python 3",
   "language": "python",
   "name": "python3"
  },
  "language_info": {
   "codemirror_mode": {
    "name": "ipython",
    "version": 3
   },
   "file_extension": ".py",
   "mimetype": "text/x-python",
   "name": "python",
   "nbconvert_exporter": "python",
   "pygments_lexer": "ipython3",
   "version": "3.11.2"
  },
  "orig_nbformat": 4
 },
 "nbformat": 4,
 "nbformat_minor": 2
}
