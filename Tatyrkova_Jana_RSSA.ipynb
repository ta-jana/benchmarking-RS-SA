{
 "cells": [
  {
   "cell_type": "code",
   "execution_count": 15,
   "metadata": {},
   "outputs": [],
   "source": [
    "import numpy as np\n",
    "import math\n",
    "import random"
   ]
  },
  {
   "attachments": {},
   "cell_type": "markdown",
   "metadata": {},
   "source": [
    "## Testovací funkce"
   ]
  },
  {
   "cell_type": "code",
   "execution_count": 1,
   "metadata": {},
   "outputs": [],
   "source": [
    "# 1st DeJong function\n",
    "\n",
    "def dejong1(x):\n",
    "    return sum([i**2 for i in x])\n",
    "\n",
    "# 2st DeJong function\n",
    "# f2(x)=sum(100·(x(i+1)-x(i)^2)^2+(1-x(i))^2)\n",
    "#   i=1:n-1; -2.048<=x(i)<=2.048.\n",
    "def dejong2(x):\n",
    "    d = len(x)\n",
    "    suma = 0\n",
    "    i=0\n",
    "    for i in range(d-1):\n",
    "        xi = x[i]\n",
    "        xnext = x[i+1]\n",
    "        new = 100 * (xnext - xi**2)**2 + (xi-1)**2\n",
    "        suma += new\n",
    "    return suma \n",
    "\n",
    "# Schweffel function\n",
    "def schweffel(x):\n",
    "    d = len(x)\n",
    "    suma = 0\n",
    "    for i in range(d):\n",
    "        xi = x[i]\n",
    "        suma += xi * math.sin(math.sqrt(abs(xi)))\n",
    "    return (418.9829 * d - suma)\n",
    "    \n",
    "    "
   ]
  },
  {
   "attachments": {},
   "cell_type": "markdown",
   "metadata": {},
   "source": [
    "## Algoritmy"
   ]
  },
  {
   "cell_type": "code",
   "execution_count": null,
   "metadata": {},
   "outputs": [],
   "source": [
    "# Random Search\n",
    "\n",
    "def random_search(n_iterations, cost_func, dimensions ):\n",
    "    best_solution = None\n",
    "    best_fitness = math.inf\n",
    "\n",
    "    for i in range(n_iterations):\n",
    "        solution = [np.random.uniform(-5.12, 5.12) for i in range(dimensions)]\n",
    "        fitness = cost_func(solution)\n",
    "\n",
    "        if fitness < best_fitness:\n",
    "            best_solution = solution\n",
    "            best_fitness = fitness\n",
    "            \n",
    "    return (best_solution, best_fitness)\n",
    "\n",
    "\n",
    "# Simulované žíhání\n",
    "\n",
    "def simulated_annealing(n_iterations, cost_function, dimensions, n_neighbours, area, max_temp, min_temp, cooling_decr):\n",
    "    starting_vector = np.random.uniform(-area, area, dimensions)\n",
    "    current_solution = starting_vector\n",
    "    current_fitness = cost_function(current_solution)\n",
    "    history = [current_fitness]\n",
    "    T = max_temp\n",
    "\n",
    "    for i in range(n_iterations):\n",
    "        neighbours = generate_neighbors(current_solution, n_neighbours, area)\n",
    "        for neighbour_solution in neighbours:\n",
    "            neighbour_fitness = cost_function(neighbour_solution) \n",
    "            delta_f = neighbour_fitness - current_fitness\n",
    "            if(delta_f < 0):\n",
    "                current_fitness = neighbour_fitness\n",
    "                current_solution = neighbour_solution\n",
    "            elif(neighbour_fitness < current_fitness):\n",
    "                current_fitness = neighbour_fitness\n",
    "                current_solution = neighbour_solution\n",
    "            elif(random.random() < math.exp(-delta_f/T)): #volani metropolise\n",
    "                current_fitness = neighbour_fitness\n",
    "                current_solution = neighbour_solution\n",
    "        history.append(current_fitness)\n",
    "        T = max_temp*cooling_decr^i\n",
    "        if(T < min_temp):\n",
    "            T = min_temp\n",
    "    return history\n",
    "\n",
    "\n",
    "def generate_neighbors(current_solution, n_neighbors, area):\n",
    "    neighbors = []\n",
    "    min_value = -area\n",
    "    max_value = area\n",
    "    step_10_percent = 0.1 * (max_value - min_value)\n",
    "    sigma = step_10_percent/2\n",
    "    for i in range(n_neighbors):\n",
    "        neighbor = current_solution + np.random.normal(0, sigma, len(current_solution))\n",
    "        while not all((neighbor >= -(area)) & (neighbor <= area)):\n",
    "            neighbor = current_solution + np.random.normal(0, sigma, len(current_solution))\n",
    "        neighbors.append(neighbor)\n",
    "    return neighbors\n"
   ]
  },
  {
   "attachments": {},
   "cell_type": "markdown",
   "metadata": {},
   "source": [
    "## Výseldky"
   ]
  },
  {
   "cell_type": "code",
   "execution_count": null,
   "metadata": {},
   "outputs": [],
   "source": [
    "def generate_output(range, dimension, obj_func, sigma, population, num_iterations, title):\n",
    "    T0 = 1000\n",
    "    Tf = 1e-5"
   ]
  },
  {
   "cell_type": "code",
   "execution_count": 29,
   "metadata": {},
   "outputs": [
    {
     "data": {
      "text/plain": [
       "0.42695561433801743"
      ]
     },
     "execution_count": 29,
     "metadata": {},
     "output_type": "execute_result"
    }
   ],
   "source": [
    "random.random()"
   ]
  },
  {
   "cell_type": "code",
   "execution_count": null,
   "metadata": {},
   "outputs": [],
   "source": []
  }
 ],
 "metadata": {
  "kernelspec": {
   "display_name": "Python 3",
   "language": "python",
   "name": "python3"
  },
  "language_info": {
   "codemirror_mode": {
    "name": "ipython",
    "version": 3
   },
   "file_extension": ".py",
   "mimetype": "text/x-python",
   "name": "python",
   "nbconvert_exporter": "python",
   "pygments_lexer": "ipython3",
   "version": "3.11.2"
  },
  "orig_nbformat": 4
 },
 "nbformat": 4,
 "nbformat_minor": 2
}
